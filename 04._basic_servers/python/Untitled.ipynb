{
 "cells": [
  {
   "cell_type": "code",
   "execution_count": 3,
   "id": "4056cb06-b5ae-4eb0-ac24-38f3aa87335c",
   "metadata": {},
   "outputs": [
    {
     "ename": "ModuleNotFoundError",
     "evalue": "No module named 'fastapi'",
     "output_type": "error",
     "traceback": [
      "\u001b[0;31m---------------------------------------------------------------------------\u001b[0m",
      "\u001b[0;31mModuleNotFoundError\u001b[0m                       Traceback (most recent call last)",
      "\u001b[0;32m/var/folders/mv/1wspd8ss21x8drphht5pcly80000gn/T/ipykernel_4554/1778243146.py\u001b[0m in \u001b[0;36m<module>\u001b[0;34m\u001b[0m\n\u001b[0;32m----> 1\u001b[0;31m \u001b[0;32mfrom\u001b[0m \u001b[0mfastapi\u001b[0m \u001b[0;32mimport\u001b[0m \u001b[0mFastAPI\u001b[0m\u001b[0;34m\u001b[0m\u001b[0;34m\u001b[0m\u001b[0m\n\u001b[0m\u001b[1;32m      2\u001b[0m \u001b[0;32mimport\u001b[0m \u001b[0mjson\u001b[0m\u001b[0;34m\u001b[0m\u001b[0;34m\u001b[0m\u001b[0m\n\u001b[1;32m      3\u001b[0m \u001b[0;34m\u001b[0m\u001b[0m\n\u001b[1;32m      4\u001b[0m \u001b[0mapp\u001b[0m \u001b[0;34m=\u001b[0m \u001b[0mFastAPI\u001b[0m\u001b[0;34m(\u001b[0m\u001b[0;34m)\u001b[0m\u001b[0;34m\u001b[0m\u001b[0;34m\u001b[0m\u001b[0m\n\u001b[1;32m      5\u001b[0m \u001b[0mpath\u001b[0m \u001b[0;34m=\u001b[0m \u001b[0;34m\"../../02._data_formats/me\"\u001b[0m\u001b[0;34m\u001b[0m\u001b[0;34m\u001b[0m\u001b[0m\n",
      "\u001b[0;31mModuleNotFoundError\u001b[0m: No module named 'fastapi'"
     ]
    }
   ],
   "source": [
    "from fastapi import FastAPI\n",
    "import json\n",
    "\n",
    "app = FastAPI()\n",
    "path = \"../../02._data_formats/me\"\n",
    "\n",
    "    # Read Json \n",
    "    #with open(path + \".json\") as f:\n",
    "       # data = json.load(path + \".csv\")\n",
    "\n",
    "@app.get(\"/\")\n",
    "def _():\n",
    "    return {\"message\": data}\n",
    "\n",
    "@app.get(\"/newroute\")\n",
    "def _():\n",
    "    return {\"message\":\"This is my second route\"} "
   ]
  },
  {
   "cell_type": "code",
   "execution_count": 6,
   "id": "d304d3c4-fb53-41ec-a580-384c04f16952",
   "metadata": {},
   "outputs": [],
   "source": [
    "import json"
   ]
  },
  {
   "cell_type": "code",
   "execution_count": 13,
   "id": "3f86a8e9-373d-4e82-a567-b7e8fe8e608e",
   "metadata": {},
   "outputs": [],
   "source": [
    "path = \"../../02._data_formats/me\"\n",
    "\n",
    "\n",
    "f = open(path + \".json\")\n",
    "data = json.load(f)"
   ]
  },
  {
   "cell_type": "code",
   "execution_count": 16,
   "id": "b1dccb1e-4d22-4dcb-bd33-4e479f68561c",
   "metadata": {},
   "outputs": [
    {
     "data": {
      "text/plain": [
       "[{'name': 'Tobias'}, {'age': 33}]"
      ]
     },
     "execution_count": 16,
     "metadata": {},
     "output_type": "execute_result"
    }
   ],
   "source": [
    "data[\"Tobias\"]"
   ]
  },
  {
   "cell_type": "code",
   "execution_count": null,
   "id": "99ad11b6-c1ab-4b60-93ac-675fe4bfd67c",
   "metadata": {},
   "outputs": [
    {
     "name": "stdout",
     "output_type": "stream",
     "text": [
      "\u001b[32mINFO\u001b[0m:     Will watch for changes in these directories: ['/Users/tobiaspoulsen/VSCode/Kea-Student-2023/04._basic_servers/python']\n",
      "\u001b[32mINFO\u001b[0m:     Uvicorn running on \u001b[1mhttp://127.0.0.1:8000\u001b[0m (Press CTRL+C to quit)\n",
      "\u001b[32mINFO\u001b[0m:     Started reloader process [\u001b[36m\u001b[1m8549\u001b[0m] using \u001b[36m\u001b[1mStatReload\u001b[0m\n",
      "Process SpawnProcess-1:\n",
      "Traceback (most recent call last):\n",
      "  File \"/opt/anaconda3/lib/python3.9/multiprocessing/process.py\", line 315, in _bootstrap\n",
      "    self.run()\n",
      "  File \"/opt/anaconda3/lib/python3.9/multiprocessing/process.py\", line 108, in run\n",
      "    self._target(*self._args, **self._kwargs)\n",
      "  File \"/Users/tobiaspoulsen/Library/Caches/pypoetry/virtualenvs/python-oP1-e6NY-py3.9/lib/python3.9/site-packages/uvicorn/_subprocess.py\", line 76, in subprocess_started\n",
      "    target(sockets=sockets)\n",
      "  File \"/Users/tobiaspoulsen/Library/Caches/pypoetry/virtualenvs/python-oP1-e6NY-py3.9/lib/python3.9/site-packages/uvicorn/server.py\", line 60, in run\n",
      "    return asyncio.run(self.serve(sockets=sockets))\n",
      "  File \"/opt/anaconda3/lib/python3.9/asyncio/runners.py\", line 44, in run\n",
      "    return loop.run_until_complete(main)\n",
      "  File \"/opt/anaconda3/lib/python3.9/asyncio/base_events.py\", line 647, in run_until_complete\n",
      "    return future.result()\n",
      "  File \"/Users/tobiaspoulsen/Library/Caches/pypoetry/virtualenvs/python-oP1-e6NY-py3.9/lib/python3.9/site-packages/uvicorn/server.py\", line 67, in serve\n",
      "    config.load()\n",
      "  File \"/Users/tobiaspoulsen/Library/Caches/pypoetry/virtualenvs/python-oP1-e6NY-py3.9/lib/python3.9/site-packages/uvicorn/config.py\", line 477, in load\n",
      "    self.loaded_app = import_from_string(self.app)\n",
      "  File \"/Users/tobiaspoulsen/Library/Caches/pypoetry/virtualenvs/python-oP1-e6NY-py3.9/lib/python3.9/site-packages/uvicorn/importer.py\", line 21, in import_from_string\n",
      "    module = importlib.import_module(module_str)\n",
      "  File \"/opt/anaconda3/lib/python3.9/importlib/__init__.py\", line 127, in import_module\n",
      "    return _bootstrap._gcd_import(name[level:], package, level)\n",
      "  File \"<frozen importlib._bootstrap>\", line 1030, in _gcd_import\n",
      "  File \"<frozen importlib._bootstrap>\", line 1007, in _find_and_load\n",
      "  File \"<frozen importlib._bootstrap>\", line 986, in _find_and_load_unlocked\n",
      "  File \"<frozen importlib._bootstrap>\", line 680, in _load_unlocked\n",
      "  File \"<frozen importlib._bootstrap_external>\", line 850, in exec_module\n",
      "  File \"<frozen importlib._bootstrap>\", line 228, in _call_with_frames_removed\n",
      "  File \"/Users/tobiaspoulsen/VSCode/Kea-Student-2023/04._basic_servers/python/./main.py\", line 26, in <module>\n",
      "    def update_item(names: str, name: Name):\n",
      "NameError: name 'Name' is not defined\n",
      "\u001b[33mWARNING\u001b[0m:  StatReload detected changes in 'main.py'. Reloading...\n",
      "Process SpawnProcess-2:\n",
      "Traceback (most recent call last):\n",
      "  File \"/opt/anaconda3/lib/python3.9/multiprocessing/process.py\", line 315, in _bootstrap\n",
      "    self.run()\n",
      "  File \"/opt/anaconda3/lib/python3.9/multiprocessing/process.py\", line 108, in run\n",
      "    self._target(*self._args, **self._kwargs)\n",
      "  File \"/Users/tobiaspoulsen/Library/Caches/pypoetry/virtualenvs/python-oP1-e6NY-py3.9/lib/python3.9/site-packages/uvicorn/_subprocess.py\", line 76, in subprocess_started\n",
      "    target(sockets=sockets)\n",
      "  File \"/Users/tobiaspoulsen/Library/Caches/pypoetry/virtualenvs/python-oP1-e6NY-py3.9/lib/python3.9/site-packages/uvicorn/server.py\", line 60, in run\n",
      "    return asyncio.run(self.serve(sockets=sockets))\n",
      "  File \"/opt/anaconda3/lib/python3.9/asyncio/runners.py\", line 44, in run\n",
      "    return loop.run_until_complete(main)\n",
      "  File \"/opt/anaconda3/lib/python3.9/asyncio/base_events.py\", line 647, in run_until_complete\n",
      "    return future.result()\n",
      "  File \"/Users/tobiaspoulsen/Library/Caches/pypoetry/virtualenvs/python-oP1-e6NY-py3.9/lib/python3.9/site-packages/uvicorn/server.py\", line 67, in serve\n",
      "    config.load()\n",
      "  File \"/Users/tobiaspoulsen/Library/Caches/pypoetry/virtualenvs/python-oP1-e6NY-py3.9/lib/python3.9/site-packages/uvicorn/config.py\", line 477, in load\n",
      "    self.loaded_app = import_from_string(self.app)\n",
      "  File \"/Users/tobiaspoulsen/Library/Caches/pypoetry/virtualenvs/python-oP1-e6NY-py3.9/lib/python3.9/site-packages/uvicorn/importer.py\", line 21, in import_from_string\n",
      "    module = importlib.import_module(module_str)\n",
      "  File \"/opt/anaconda3/lib/python3.9/importlib/__init__.py\", line 127, in import_module\n",
      "    return _bootstrap._gcd_import(name[level:], package, level)\n",
      "  File \"<frozen importlib._bootstrap>\", line 1030, in _gcd_import\n",
      "  File \"<frozen importlib._bootstrap>\", line 1007, in _find_and_load\n",
      "  File \"<frozen importlib._bootstrap>\", line 986, in _find_and_load_unlocked\n",
      "  File \"<frozen importlib._bootstrap>\", line 680, in _load_unlocked\n",
      "  File \"<frozen importlib._bootstrap_external>\", line 850, in exec_module\n",
      "  File \"<frozen importlib._bootstrap>\", line 228, in _call_with_frames_removed\n",
      "  File \"/Users/tobiaspoulsen/VSCode/Kea-Student-2023/04._basic_servers/python/./main.py\", line 26, in <module>\n",
      "    def update_item(names: str, name: na):\n",
      "NameError: name 'na' is not defined\n",
      "\u001b[33mWARNING\u001b[0m:  StatReload detected changes in 'main.py'. Reloading...\n",
      "Process SpawnProcess-3:\n",
      "Traceback (most recent call last):\n",
      "  File \"/opt/anaconda3/lib/python3.9/multiprocessing/process.py\", line 315, in _bootstrap\n",
      "    self.run()\n",
      "  File \"/opt/anaconda3/lib/python3.9/multiprocessing/process.py\", line 108, in run\n",
      "    self._target(*self._args, **self._kwargs)\n",
      "  File \"/Users/tobiaspoulsen/Library/Caches/pypoetry/virtualenvs/python-oP1-e6NY-py3.9/lib/python3.9/site-packages/uvicorn/_subprocess.py\", line 76, in subprocess_started\n",
      "    target(sockets=sockets)\n",
      "  File \"/Users/tobiaspoulsen/Library/Caches/pypoetry/virtualenvs/python-oP1-e6NY-py3.9/lib/python3.9/site-packages/uvicorn/server.py\", line 60, in run\n",
      "    return asyncio.run(self.serve(sockets=sockets))\n",
      "  File \"/opt/anaconda3/lib/python3.9/asyncio/runners.py\", line 44, in run\n",
      "    return loop.run_until_complete(main)\n",
      "  File \"/opt/anaconda3/lib/python3.9/asyncio/base_events.py\", line 647, in run_until_complete\n",
      "    return future.result()\n",
      "  File \"/Users/tobiaspoulsen/Library/Caches/pypoetry/virtualenvs/python-oP1-e6NY-py3.9/lib/python3.9/site-packages/uvicorn/server.py\", line 67, in serve\n",
      "    config.load()\n",
      "  File \"/Users/tobiaspoulsen/Library/Caches/pypoetry/virtualenvs/python-oP1-e6NY-py3.9/lib/python3.9/site-packages/uvicorn/config.py\", line 477, in load\n",
      "    self.loaded_app = import_from_string(self.app)\n",
      "  File \"/Users/tobiaspoulsen/Library/Caches/pypoetry/virtualenvs/python-oP1-e6NY-py3.9/lib/python3.9/site-packages/uvicorn/importer.py\", line 21, in import_from_string\n",
      "    module = importlib.import_module(module_str)\n",
      "  File \"/opt/anaconda3/lib/python3.9/importlib/__init__.py\", line 127, in import_module\n",
      "    return _bootstrap._gcd_import(name[level:], package, level)\n",
      "  File \"<frozen importlib._bootstrap>\", line 1030, in _gcd_import\n",
      "  File \"<frozen importlib._bootstrap>\", line 1007, in _find_and_load\n",
      "  File \"<frozen importlib._bootstrap>\", line 986, in _find_and_load_unlocked\n",
      "  File \"<frozen importlib._bootstrap>\", line 680, in _load_unlocked\n",
      "  File \"<frozen importlib._bootstrap_external>\", line 850, in exec_module\n",
      "  File \"<frozen importlib._bootstrap>\", line 228, in _call_with_frames_removed\n",
      "  File \"/Users/tobiaspoulsen/VSCode/Kea-Student-2023/04._basic_servers/python/./main.py\", line 26, in <module>\n",
      "    def update_item(names: str, name: name):\n",
      "NameError: name 'name' is not defined\n",
      "\u001b[33mWARNING\u001b[0m:  StatReload detected changes in 'main.py'. Reloading...\n",
      "Process SpawnProcess-4:\n",
      "Traceback (most recent call last):\n",
      "  File \"/opt/anaconda3/lib/python3.9/multiprocessing/process.py\", line 315, in _bootstrap\n",
      "    self.run()\n",
      "  File \"/opt/anaconda3/lib/python3.9/multiprocessing/process.py\", line 108, in run\n",
      "    self._target(*self._args, **self._kwargs)\n",
      "  File \"/Users/tobiaspoulsen/Library/Caches/pypoetry/virtualenvs/python-oP1-e6NY-py3.9/lib/python3.9/site-packages/uvicorn/_subprocess.py\", line 76, in subprocess_started\n",
      "    target(sockets=sockets)\n",
      "  File \"/Users/tobiaspoulsen/Library/Caches/pypoetry/virtualenvs/python-oP1-e6NY-py3.9/lib/python3.9/site-packages/uvicorn/server.py\", line 60, in run\n",
      "    return asyncio.run(self.serve(sockets=sockets))\n",
      "  File \"/opt/anaconda3/lib/python3.9/asyncio/runners.py\", line 44, in run\n",
      "    return loop.run_until_complete(main)\n",
      "  File \"/opt/anaconda3/lib/python3.9/asyncio/base_events.py\", line 647, in run_until_complete\n",
      "    return future.result()\n",
      "  File \"/Users/tobiaspoulsen/Library/Caches/pypoetry/virtualenvs/python-oP1-e6NY-py3.9/lib/python3.9/site-packages/uvicorn/server.py\", line 67, in serve\n",
      "    config.load()\n",
      "  File \"/Users/tobiaspoulsen/Library/Caches/pypoetry/virtualenvs/python-oP1-e6NY-py3.9/lib/python3.9/site-packages/uvicorn/config.py\", line 477, in load\n",
      "    self.loaded_app = import_from_string(self.app)\n",
      "  File \"/Users/tobiaspoulsen/Library/Caches/pypoetry/virtualenvs/python-oP1-e6NY-py3.9/lib/python3.9/site-packages/uvicorn/importer.py\", line 21, in import_from_string\n",
      "    module = importlib.import_module(module_str)\n",
      "  File \"/opt/anaconda3/lib/python3.9/importlib/__init__.py\", line 127, in import_module\n",
      "    return _bootstrap._gcd_import(name[level:], package, level)\n",
      "  File \"<frozen importlib._bootstrap>\", line 1030, in _gcd_import\n",
      "  File \"<frozen importlib._bootstrap>\", line 1007, in _find_and_load\n",
      "  File \"<frozen importlib._bootstrap>\", line 986, in _find_and_load_unlocked\n",
      "  File \"<frozen importlib._bootstrap>\", line 680, in _load_unlocked\n",
      "  File \"<frozen importlib._bootstrap_external>\", line 850, in exec_module\n",
      "  File \"<frozen importlib._bootstrap>\", line 228, in _call_with_frames_removed\n",
      "  File \"/Users/tobiaspoulsen/VSCode/Kea-Student-2023/04._basic_servers/python/./main.py\", line 26, in <module>\n",
      "    def update_item(names: str, name: Item):\n",
      "NameError: name 'Item' is not defined\n",
      "\u001b[33mWARNING\u001b[0m:  StatReload detected changes in 'main.py'. Reloading...\n",
      "Process SpawnProcess-5:\n",
      "Traceback (most recent call last):\n",
      "  File \"/opt/anaconda3/lib/python3.9/multiprocessing/process.py\", line 315, in _bootstrap\n",
      "    self.run()\n",
      "  File \"/opt/anaconda3/lib/python3.9/multiprocessing/process.py\", line 108, in run\n",
      "    self._target(*self._args, **self._kwargs)\n",
      "  File \"/Users/tobiaspoulsen/Library/Caches/pypoetry/virtualenvs/python-oP1-e6NY-py3.9/lib/python3.9/site-packages/uvicorn/_subprocess.py\", line 76, in subprocess_started\n",
      "    target(sockets=sockets)\n",
      "  File \"/Users/tobiaspoulsen/Library/Caches/pypoetry/virtualenvs/python-oP1-e6NY-py3.9/lib/python3.9/site-packages/uvicorn/server.py\", line 60, in run\n",
      "    return asyncio.run(self.serve(sockets=sockets))\n",
      "  File \"/opt/anaconda3/lib/python3.9/asyncio/runners.py\", line 44, in run\n",
      "    return loop.run_until_complete(main)\n",
      "  File \"/opt/anaconda3/lib/python3.9/asyncio/base_events.py\", line 647, in run_until_complete\n",
      "    return future.result()\n",
      "  File \"/Users/tobiaspoulsen/Library/Caches/pypoetry/virtualenvs/python-oP1-e6NY-py3.9/lib/python3.9/site-packages/uvicorn/server.py\", line 67, in serve\n",
      "    config.load()\n",
      "  File \"/Users/tobiaspoulsen/Library/Caches/pypoetry/virtualenvs/python-oP1-e6NY-py3.9/lib/python3.9/site-packages/uvicorn/config.py\", line 477, in load\n",
      "    self.loaded_app = import_from_string(self.app)\n",
      "  File \"/Users/tobiaspoulsen/Library/Caches/pypoetry/virtualenvs/python-oP1-e6NY-py3.9/lib/python3.9/site-packages/uvicorn/importer.py\", line 21, in import_from_string\n",
      "    module = importlib.import_module(module_str)\n",
      "  File \"/opt/anaconda3/lib/python3.9/importlib/__init__.py\", line 127, in import_module\n",
      "    return _bootstrap._gcd_import(name[level:], package, level)\n",
      "  File \"<frozen importlib._bootstrap>\", line 1030, in _gcd_import\n",
      "  File \"<frozen importlib._bootstrap>\", line 1007, in _find_and_load\n",
      "  File \"<frozen importlib._bootstrap>\", line 986, in _find_and_load_unlocked\n",
      "  File \"<frozen importlib._bootstrap>\", line 680, in _load_unlocked\n",
      "  File \"<frozen importlib._bootstrap_external>\", line 850, in exec_module\n",
      "  File \"<frozen importlib._bootstrap>\", line 228, in _call_with_frames_removed\n",
      "  File \"/Users/tobiaspoulsen/VSCode/Kea-Student-2023/04._basic_servers/python/./main.py\", line 26, in <module>\n",
      "    def update_item(names: str, item: Item):\n",
      "NameError: name 'Item' is not defined\n"
     ]
    }
   ],
   "source": [
    "!uvicorn main:app --reload"
   ]
  },
  {
   "cell_type": "code",
   "execution_count": 3,
   "id": "a59dbf09-75e5-4c32-a16b-224d39ff24e2",
   "metadata": {
    "tags": []
   },
   "outputs": [
    {
     "name": "stdout",
     "output_type": "stream",
     "text": [
      "Collecting Union\n",
      "  Downloading union-0.1.10.tar.gz (4.0 kB)\n",
      "  Preparing metadata (setup.py) ... \u001b[?25ldone\n",
      "\u001b[?25hRequirement already satisfied: setuptools in /Users/tobiaspoulsen/Library/Caches/pypoetry/virtualenvs/python-oP1-e6NY-py3.9/lib/python3.9/site-packages (from Union) (67.1.0)\n",
      "Requirement already satisfied: requests>=2.19.1 in /Users/tobiaspoulsen/Library/Caches/pypoetry/virtualenvs/python-oP1-e6NY-py3.9/lib/python3.9/site-packages (from Union) (2.28.2)\n",
      "Requirement already satisfied: six in /Users/tobiaspoulsen/Library/Caches/pypoetry/virtualenvs/python-oP1-e6NY-py3.9/lib/python3.9/site-packages (from Union) (1.16.0)\n",
      "Requirement already satisfied: urllib3<1.27,>=1.21.1 in /Users/tobiaspoulsen/Library/Caches/pypoetry/virtualenvs/python-oP1-e6NY-py3.9/lib/python3.9/site-packages (from requests>=2.19.1->Union) (1.26.14)\n",
      "Requirement already satisfied: certifi>=2017.4.17 in /Users/tobiaspoulsen/Library/Caches/pypoetry/virtualenvs/python-oP1-e6NY-py3.9/lib/python3.9/site-packages (from requests>=2.19.1->Union) (2022.12.7)\n",
      "Requirement already satisfied: charset-normalizer<4,>=2 in /Users/tobiaspoulsen/Library/Caches/pypoetry/virtualenvs/python-oP1-e6NY-py3.9/lib/python3.9/site-packages (from requests>=2.19.1->Union) (3.0.1)\n",
      "Requirement already satisfied: idna<4,>=2.5 in /Users/tobiaspoulsen/Library/Caches/pypoetry/virtualenvs/python-oP1-e6NY-py3.9/lib/python3.9/site-packages (from requests>=2.19.1->Union) (3.4)\n",
      "Building wheels for collected packages: Union\n",
      "  Building wheel for Union (setup.py) ... \u001b[?25ldone\n",
      "\u001b[?25h  Created wheel for Union: filename=union-0.1.10-py3-none-any.whl size=4845 sha256=f9346ac0cb2e49b58a4e7b3a1af1237d48a5b511647c6c0c8e5dd9e3ece9fb6f\n",
      "  Stored in directory: /Users/tobiaspoulsen/Library/Caches/pip/wheels/f9/17/a6/12ae8586036d5d7db07fc80b057107b17058e963b333aa29ee\n",
      "Successfully built Union\n",
      "Installing collected packages: Union\n",
      "Successfully installed Union-0.1.10\n",
      "\n",
      "\u001b[1m[\u001b[0m\u001b[34;49mnotice\u001b[0m\u001b[1;39;49m]\u001b[0m\u001b[39;49m A new release of pip is available: \u001b[0m\u001b[31;49m23.0\u001b[0m\u001b[39;49m -> \u001b[0m\u001b[32;49m23.0.1\u001b[0m\n",
      "\u001b[1m[\u001b[0m\u001b[34;49mnotice\u001b[0m\u001b[1;39;49m]\u001b[0m\u001b[39;49m To update, run: \u001b[0m\u001b[32;49mpip install --upgrade pip\u001b[0m\n"
     ]
    }
   ],
   "source": [
    "!pip install Union"
   ]
  },
  {
   "cell_type": "code",
   "execution_count": null,
   "id": "68283b98-4155-41ed-95e4-499623afee3e",
   "metadata": {},
   "outputs": [],
   "source": []
  }
 ],
 "metadata": {
  "kernelspec": {
   "display_name": "Python 3 (ipykernel)",
   "language": "python",
   "name": "python3"
  },
  "language_info": {
   "codemirror_mode": {
    "name": "ipython",
    "version": 3
   },
   "file_extension": ".py",
   "mimetype": "text/x-python",
   "name": "python",
   "nbconvert_exporter": "python",
   "pygments_lexer": "ipython3",
   "version": "3.9.13"
  }
 },
 "nbformat": 4,
 "nbformat_minor": 5
}
